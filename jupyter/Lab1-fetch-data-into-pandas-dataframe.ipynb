{
 "cells": [
  {
   "cell_type": "markdown",
   "metadata": {},
   "source": [
    "## Lab1 目標：整理各縣市鄉鎮區行政中心區碼"
   ]
  },
  {
   "cell_type": "markdown",
   "metadata": {},
   "source": [
    "- 資源來源 [中華民國統計資訊網 - 行政區域及村里代碼](https://www.stat.gov.tw/ct.asp?xItem=14380&CtNode=1519&mp=4)\n",
    "- 所屬縣市 + 鄉鎮區名\n",
    "- 舊制區碼"
   ]
  },
  {
   "cell_type": "code",
   "execution_count": 1,
   "metadata": {
    "collapsed": true
   },
   "outputs": [],
   "source": [
    "import sys\n",
    "import pandas as pd"
   ]
  },
  {
   "cell_type": "code",
   "execution_count": 2,
   "metadata": {},
   "outputs": [
    {
     "data": {
      "text/plain": [
       "['主計總處與內政部對照表']"
      ]
     },
     "execution_count": 2,
     "metadata": {},
     "output_type": "execute_result"
    }
   ],
   "source": [
    "infile_xlsx = './xlsx/comparison_table.xlsx'\n",
    "xl = pd.ExcelFile(infile_xlsx)\n",
    "xl.sheet_names"
   ]
  },
  {
   "cell_type": "code",
   "execution_count": 3,
   "metadata": {},
   "outputs": [
    {
     "data": {
      "text/html": [
       "<div>\n",
       "<style>\n",
       "    .dataframe thead tr:only-child th {\n",
       "        text-align: right;\n",
       "    }\n",
       "\n",
       "    .dataframe thead th {\n",
       "        text-align: left;\n",
       "    }\n",
       "\n",
       "    .dataframe tbody tr th {\n",
       "        vertical-align: top;\n",
       "    }\n",
       "</style>\n",
       "<table border=\"1\" class=\"dataframe\">\n",
       "  <thead>\n",
       "    <tr style=\"text-align: right;\">\n",
       "      <th></th>\n",
       "      <th>行政院主計總處與內政部戶政司村里代碼對照表</th>\n",
       "      <th>Unnamed: 1</th>\n",
       "      <th>Unnamed: 2</th>\n",
       "      <th>Unnamed: 3</th>\n",
       "      <th>Unnamed: 4</th>\n",
       "      <th>Unnamed: 5</th>\n",
       "      <th>Unnamed: 6</th>\n",
       "    </tr>\n",
       "  </thead>\n",
       "  <tbody>\n",
       "    <tr>\n",
       "      <th>0</th>\n",
       "      <td>NaN</td>\n",
       "      <td>NaN</td>\n",
       "      <td>NaN</td>\n",
       "      <td>NaN</td>\n",
       "      <td>NaN</td>\n",
       "      <td>NaN</td>\n",
       "      <td>106.01.31</td>\n",
       "    </tr>\n",
       "    <tr>\n",
       "      <th>1</th>\n",
       "      <td>行政院主計總處</td>\n",
       "      <td>NaN</td>\n",
       "      <td>NaN</td>\n",
       "      <td>NaN</td>\n",
       "      <td>NaN</td>\n",
       "      <td>NaN</td>\n",
       "      <td>內政部戶役政資訊系統</td>\n",
       "    </tr>\n",
       "    <tr>\n",
       "      <th>2</th>\n",
       "      <td>縣市代碼</td>\n",
       "      <td>縣市名稱</td>\n",
       "      <td>區里代碼</td>\n",
       "      <td>區鄉鎮名稱</td>\n",
       "      <td>村里代碼</td>\n",
       "      <td>村里名稱</td>\n",
       "      <td>村里代碼</td>\n",
       "    </tr>\n",
       "    <tr>\n",
       "      <th>3</th>\n",
       "      <td>63</td>\n",
       "      <td>台北市</td>\n",
       "      <td>6300100</td>\n",
       "      <td>松山區</td>\n",
       "      <td>6300100-002</td>\n",
       "      <td>莊敬里</td>\n",
       "      <td>63000010002</td>\n",
       "    </tr>\n",
       "    <tr>\n",
       "      <th>4</th>\n",
       "      <td>63</td>\n",
       "      <td>台北市</td>\n",
       "      <td>6300100</td>\n",
       "      <td>松山區</td>\n",
       "      <td>6300100-003</td>\n",
       "      <td>東榮里</td>\n",
       "      <td>63000010003</td>\n",
       "    </tr>\n",
       "  </tbody>\n",
       "</table>\n",
       "</div>"
      ],
      "text/plain": [
       "  行政院主計總處與內政部戶政司村里代碼對照表 Unnamed: 1 Unnamed: 2 Unnamed: 3   Unnamed: 4  \\\n",
       "0                   NaN        NaN        NaN        NaN          NaN   \n",
       "1               行政院主計總處        NaN        NaN        NaN          NaN   \n",
       "2                  縣市代碼       縣市名稱       區里代碼      區鄉鎮名稱         村里代碼   \n",
       "3                    63        台北市    6300100        松山區  6300100-002   \n",
       "4                    63        台北市    6300100        松山區  6300100-003   \n",
       "\n",
       "  Unnamed: 5   Unnamed: 6  \n",
       "0        NaN    106.01.31  \n",
       "1        NaN   內政部戶役政資訊系統  \n",
       "2       村里名稱         村里代碼  \n",
       "3        莊敬里  63000010002  \n",
       "4        東榮里  63000010003  "
      ]
     },
     "execution_count": 3,
     "metadata": {},
     "output_type": "execute_result"
    }
   ],
   "source": [
    "dfp = xl.parse('主計總處與內政部對照表')\n",
    "dfp.head(5)"
   ]
  },
  {
   "cell_type": "code",
   "execution_count": 33,
   "metadata": {},
   "outputs": [
    {
     "data": {
      "text/html": [
       "<div>\n",
       "<style>\n",
       "    .dataframe thead tr:only-child th {\n",
       "        text-align: right;\n",
       "    }\n",
       "\n",
       "    .dataframe thead th {\n",
       "        text-align: left;\n",
       "    }\n",
       "\n",
       "    .dataframe tbody tr th {\n",
       "        vertical-align: top;\n",
       "    }\n",
       "</style>\n",
       "<table border=\"1\" class=\"dataframe\">\n",
       "  <thead>\n",
       "    <tr style=\"text-align: right;\">\n",
       "      <th></th>\n",
       "      <th>縣市代碼</th>\n",
       "      <th>縣市名稱</th>\n",
       "      <th>區里代碼</th>\n",
       "      <th>區鄉鎮名稱</th>\n",
       "      <th>村里代碼</th>\n",
       "      <th>村里名稱</th>\n",
       "      <th>村里代碼</th>\n",
       "    </tr>\n",
       "  </thead>\n",
       "  <tbody>\n",
       "    <tr>\n",
       "      <th>3</th>\n",
       "      <td>63</td>\n",
       "      <td>台北市</td>\n",
       "      <td>6300100</td>\n",
       "      <td>松山區</td>\n",
       "      <td>6300100-002</td>\n",
       "      <td>莊敬里</td>\n",
       "      <td>63000010002</td>\n",
       "    </tr>\n",
       "    <tr>\n",
       "      <th>4</th>\n",
       "      <td>63</td>\n",
       "      <td>台北市</td>\n",
       "      <td>6300100</td>\n",
       "      <td>松山區</td>\n",
       "      <td>6300100-003</td>\n",
       "      <td>東榮里</td>\n",
       "      <td>63000010003</td>\n",
       "    </tr>\n",
       "    <tr>\n",
       "      <th>5</th>\n",
       "      <td>63</td>\n",
       "      <td>台北市</td>\n",
       "      <td>6300100</td>\n",
       "      <td>松山區</td>\n",
       "      <td>6300100-004</td>\n",
       "      <td>三民里</td>\n",
       "      <td>63000010004</td>\n",
       "    </tr>\n",
       "    <tr>\n",
       "      <th>6</th>\n",
       "      <td>63</td>\n",
       "      <td>台北市</td>\n",
       "      <td>6300100</td>\n",
       "      <td>松山區</td>\n",
       "      <td>6300100-005</td>\n",
       "      <td>新益里</td>\n",
       "      <td>63000010005</td>\n",
       "    </tr>\n",
       "    <tr>\n",
       "      <th>7</th>\n",
       "      <td>63</td>\n",
       "      <td>台北市</td>\n",
       "      <td>6300100</td>\n",
       "      <td>松山區</td>\n",
       "      <td>6300100-006</td>\n",
       "      <td>富錦里</td>\n",
       "      <td>63000010006</td>\n",
       "    </tr>\n",
       "  </tbody>\n",
       "</table>\n",
       "</div>"
      ],
      "text/plain": [
       "  縣市代碼 縣市名稱     區里代碼 區鄉鎮名稱         村里代碼 村里名稱         村里代碼\n",
       "3   63  台北市  6300100   松山區  6300100-002  莊敬里  63000010002\n",
       "4   63  台北市  6300100   松山區  6300100-003  東榮里  63000010003\n",
       "5   63  台北市  6300100   松山區  6300100-004  三民里  63000010004\n",
       "6   63  台北市  6300100   松山區  6300100-005  新益里  63000010005\n",
       "7   63  台北市  6300100   松山區  6300100-006  富錦里  63000010006"
      ]
     },
     "execution_count": 33,
     "metadata": {},
     "output_type": "execute_result"
    }
   ],
   "source": [
    "import copy\n",
    "header = dfp.iloc[2]\n",
    "dfc = dfp[3:].copy().copy()\n",
    "dfc = dfc.rename(columns = header)\n",
    "dfc.head(5)"
   ]
  },
  {
   "cell_type": "code",
   "execution_count": 34,
   "metadata": {
    "scrolled": true
   },
   "outputs": [
    {
     "data": {
      "text/html": [
       "<div>\n",
       "<style>\n",
       "    .dataframe thead tr:only-child th {\n",
       "        text-align: right;\n",
       "    }\n",
       "\n",
       "    .dataframe thead th {\n",
       "        text-align: left;\n",
       "    }\n",
       "\n",
       "    .dataframe tbody tr th {\n",
       "        vertical-align: top;\n",
       "    }\n",
       "</style>\n",
       "<table border=\"1\" class=\"dataframe\">\n",
       "  <thead>\n",
       "    <tr style=\"text-align: right;\">\n",
       "      <th></th>\n",
       "      <th>縣市名稱</th>\n",
       "      <th>區鄉鎮名稱</th>\n",
       "      <th>區里代碼</th>\n",
       "    </tr>\n",
       "  </thead>\n",
       "  <tbody>\n",
       "    <tr>\n",
       "      <th>0</th>\n",
       "      <td>台北市</td>\n",
       "      <td>松山區</td>\n",
       "      <td>6300100</td>\n",
       "    </tr>\n",
       "    <tr>\n",
       "      <th>1</th>\n",
       "      <td>台北市</td>\n",
       "      <td>信義區</td>\n",
       "      <td>6300200</td>\n",
       "    </tr>\n",
       "    <tr>\n",
       "      <th>2</th>\n",
       "      <td>台北市</td>\n",
       "      <td>大安區</td>\n",
       "      <td>6300300</td>\n",
       "    </tr>\n",
       "    <tr>\n",
       "      <th>3</th>\n",
       "      <td>台北市</td>\n",
       "      <td>中山區</td>\n",
       "      <td>6300400</td>\n",
       "    </tr>\n",
       "    <tr>\n",
       "      <th>4</th>\n",
       "      <td>台北市</td>\n",
       "      <td>中正區</td>\n",
       "      <td>6300500</td>\n",
       "    </tr>\n",
       "  </tbody>\n",
       "</table>\n",
       "</div>"
      ],
      "text/plain": [
       "  縣市名稱 區鄉鎮名稱     區里代碼\n",
       "0  台北市   松山區  6300100\n",
       "1  台北市   信義區  6300200\n",
       "2  台北市   大安區  6300300\n",
       "3  台北市   中山區  6300400\n",
       "4  台北市   中正區  6300500"
      ]
     },
     "execution_count": 34,
     "metadata": {},
     "output_type": "execute_result"
    }
   ],
   "source": [
    "import re\n",
    "dfd = dfc[['縣市名稱', '區鄉鎮名稱', '區里代碼']].drop_duplicates()\n",
    "dfd['區里代碼'] = dfd['區里代碼'].apply(lambda x: int(re.findall('\\d+', str(x))[0]))\n",
    "## dfc 裡有些區里代碼有亂碼，透過 regular expression 清乾淨再轉回 int\n",
    "dfd = dfd.reset_index(drop=True)\n",
    "df = dfd.copy().copy()\n",
    "df.head(5)"
   ]
  },
  {
   "cell_type": "code",
   "execution_count": 35,
   "metadata": {},
   "outputs": [
    {
     "data": {
      "text/html": [
       "<div>\n",
       "<style>\n",
       "    .dataframe thead tr:only-child th {\n",
       "        text-align: right;\n",
       "    }\n",
       "\n",
       "    .dataframe thead th {\n",
       "        text-align: left;\n",
       "    }\n",
       "\n",
       "    .dataframe tbody tr th {\n",
       "        vertical-align: top;\n",
       "    }\n",
       "</style>\n",
       "<table border=\"1\" class=\"dataframe\">\n",
       "  <thead>\n",
       "    <tr style=\"text-align: right;\">\n",
       "      <th></th>\n",
       "      <th>sid</th>\n",
       "      <th>city</th>\n",
       "      <th>district</th>\n",
       "    </tr>\n",
       "  </thead>\n",
       "  <tbody>\n",
       "    <tr>\n",
       "      <th>0</th>\n",
       "      <td>6300100</td>\n",
       "      <td>台北市</td>\n",
       "      <td>松山區</td>\n",
       "    </tr>\n",
       "    <tr>\n",
       "      <th>1</th>\n",
       "      <td>6300200</td>\n",
       "      <td>台北市</td>\n",
       "      <td>信義區</td>\n",
       "    </tr>\n",
       "    <tr>\n",
       "      <th>2</th>\n",
       "      <td>6300300</td>\n",
       "      <td>台北市</td>\n",
       "      <td>大安區</td>\n",
       "    </tr>\n",
       "    <tr>\n",
       "      <th>3</th>\n",
       "      <td>6300400</td>\n",
       "      <td>台北市</td>\n",
       "      <td>中山區</td>\n",
       "    </tr>\n",
       "    <tr>\n",
       "      <th>4</th>\n",
       "      <td>6300500</td>\n",
       "      <td>台北市</td>\n",
       "      <td>中正區</td>\n",
       "    </tr>\n",
       "  </tbody>\n",
       "</table>\n",
       "</div>"
      ],
      "text/plain": [
       "       sid city district\n",
       "0  6300100  台北市      松山區\n",
       "1  6300200  台北市      信義區\n",
       "2  6300300  台北市      大安區\n",
       "3  6300400  台北市      中山區\n",
       "4  6300500  台北市      中正區"
      ]
     },
     "execution_count": 35,
     "metadata": {},
     "output_type": "execute_result"
    }
   ],
   "source": [
    "cols = df.columns.tolist()\n",
    "cols = cols[-1:] + cols[:-1] # 等價 cols[2:] + cols[:2]\n",
    "df = df[cols]\n",
    "df.columns = ['sid', 'city', 'district']\n",
    "df.head(5)"
   ]
  },
  {
   "cell_type": "markdown",
   "metadata": {
    "collapsed": true
   },
   "source": [
    "### Save csv"
   ]
  },
  {
   "cell_type": "code",
   "execution_count": 36,
   "metadata": {
    "collapsed": true
   },
   "outputs": [],
   "source": [
    "outfile_csv = './csv/district_code.csv'\n",
    "df.to_csv(outfile_csv, sep=',', encoding='utf-8', index=False)"
   ]
  }
 ],
 "metadata": {
  "kernelspec": {
   "display_name": "Python 3",
   "language": "python",
   "name": "python3"
  },
  "language_info": {
   "codemirror_mode": {
    "name": "ipython",
    "version": 3
   },
   "file_extension": ".py",
   "mimetype": "text/x-python",
   "name": "python",
   "nbconvert_exporter": "python",
   "pygments_lexer": "ipython3",
   "version": "3.4.3"
  }
 },
 "nbformat": 4,
 "nbformat_minor": 2
}
