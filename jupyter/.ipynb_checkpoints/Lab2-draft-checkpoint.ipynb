{
 "cells": [
  {
   "cell_type": "code",
   "execution_count": 38,
   "metadata": {},
   "outputs": [],
   "source": [
    "import sys\n",
    "import requests\n",
    "from bs4 import BeautifulSoup\n",
    "from scrapy.http import TextResponse"
   ]
  },
  {
   "cell_type": "code",
   "execution_count": 63,
   "metadata": {},
   "outputs": [],
   "source": [
    "url = 'http://www.cwb.gov.tw/V7/forecast/town368/3Hr/6300300.htm'\n",
    "req = requests.get(url)\n",
    "req.encoding = 'utf-8' # 不指定會發生編碼錯誤\n",
    "response = TextResponse(req.url, body=req.text, encoding='utf-8') # 變數特別命名的跟 scrapy shell 開起來一樣"
   ]
  },
  {
   "cell_type": "code",
   "execution_count": 186,
   "metadata": {},
   "outputs": [],
   "source": [
    "soup = BeautifulSoup(response.text, 'html.parser')\n",
    "tr_list = soup.find_all('tr')"
   ]
  },
  {
   "cell_type": "code",
   "execution_count": 187,
   "metadata": {},
   "outputs": [],
   "source": [
    "days = tr_list[0]\n",
    "hours = tr_list[1]\n",
    "weathers = tr_list[2]\n",
    "temperatures = tr_list[3]\n",
    "apparent_ts = tr_list[4]\n",
    "beaufors = tr_list[5]\n",
    "wind_dirs = tr_list[6]\n",
    "relative_hs = tr_list[7]\n",
    "p_precipitations = tr_list[8]\n",
    "c_indexes = tr_list[9]"
   ]
  },
  {
   "cell_type": "code",
   "execution_count": 203,
   "metadata": {},
   "outputs": [
    {
     "name": "stdout",
     "output_type": "stream",
     "text": [
      "08/16星期三\n"
     ]
    }
   ],
   "source": [
    "import re\n",
    "t_text = days.find_all('td')[2].text\n",
    "print(t_text)"
   ]
  },
  {
   "cell_type": "code",
   "execution_count": 207,
   "metadata": {},
   "outputs": [],
   "source": [
    "arr = re.findall('\\d+', t_text)\n"
   ]
  },
  {
   "cell_type": "markdown",
   "metadata": {},
   "source": [
    "unicode\n",
    "一：\\u4e00\n",
    "三：\\u4e09\n",
    "日：\\u65e5"
   ]
  },
  {
   "cell_type": "code",
   "execution_count": 190,
   "metadata": {},
   "outputs": [
    {
     "data": {
      "text/plain": [
       "['日']"
      ]
     },
     "execution_count": 190,
     "metadata": {},
     "output_type": "execute_result"
    }
   ],
   "source": [
    "t_text = '星期日'\n",
    "re.findall('[一|二|三|四|五|六|日]+', t_text)\n"
   ]
  },
  {
   "cell_type": "code",
   "execution_count": 213,
   "metadata": {},
   "outputs": [
    {
     "data": {
      "text/plain": [
       "'2017-08-16T21:00+08:00'"
      ]
     },
     "execution_count": 213,
     "metadata": {},
     "output_type": "execute_result"
    }
   ],
   "source": [
    "import datetime\n",
    "year = datetime.datetime.now().year\n",
    "(\"%d\" % year) + '-' + arr[0] + '-' + arr[1] + \"T\" + hours.find_all('td')[2].text + \"+08:00\""
   ]
  },
  {
   "cell_type": "code",
   "execution_count": 32,
   "metadata": {},
   "outputs": [],
   "source": [
    "days = response.css(\"table tr td[colspan]\").extract()\n",
    "hours = response.css(\"table tr td span::text\").extract()\n",
    "weathers = response.css(\"table tr td::text\").extract()\n",
    "#temperature = response.css(\"table tr td\")"
   ]
  },
  {
   "cell_type": "code",
   "execution_count": 214,
   "metadata": {},
   "outputs": [
    {
     "data": {
      "text/plain": [
       "<tr>\n",
       "<td style=\"min-width:72px;\">日期</td>\n",
       "<td colspan=\"2\">08/15<br/>星期二</td>\n",
       "<td colspan=\"8\">08/16<br/>星期三</td>\n",
       "<td colspan=\"7\">08/17<br/>星期四</td>\n",
       "</tr>"
      ]
     },
     "execution_count": 214,
     "metadata": {},
     "output_type": "execute_result"
    }
   ],
   "source": [
    "days"
   ]
  },
  {
   "cell_type": "code",
   "execution_count": 228,
   "metadata": {},
   "outputs": [
    {
     "name": "stdout",
     "output_type": "stream",
     "text": [
      "2\n",
      "8\n",
      "7\n"
     ]
    }
   ],
   "source": [
    "td_tags = days.findAll('td')\n",
    "for td_tag in td_tags:\n",
    "    if td_tag.has_attr('colspan'):\n",
    "        print(td_tag.attrs['colspan'])"
   ]
  },
  {
   "cell_type": "code",
   "execution_count": null,
   "metadata": {
    "collapsed": true
   },
   "outputs": [],
   "source": [
    "days.findAll('td', attr)"
   ]
  }
 ],
 "metadata": {
  "kernelspec": {
   "display_name": "Python 3",
   "language": "python",
   "name": "python3"
  },
  "language_info": {
   "codemirror_mode": {
    "name": "ipython",
    "version": 3
   },
   "file_extension": ".py",
   "mimetype": "text/x-python",
   "name": "python",
   "nbconvert_exporter": "python",
   "pygments_lexer": "ipython3",
   "version": "3.4.3"
  }
 },
 "nbformat": 4,
 "nbformat_minor": 2
}
