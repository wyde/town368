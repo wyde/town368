{
 "cells": [
  {
   "cell_type": "markdown",
   "metadata": {},
   "source": [
    "## Jupyter Practice "
   ]
  },
  {
   "cell_type": "code",
   "execution_count": 1,
   "metadata": {
    "collapsed": true
   },
   "outputs": [],
   "source": [
    "import sys\n",
    "import pandas"
   ]
  },
  {
   "cell_type": "markdown",
   "metadata": {},
   "source": [
    "## 讀入 CSV 檔"
   ]
  },
  {
   "cell_type": "code",
   "execution_count": 2,
   "metadata": {},
   "outputs": [
    {
     "name": "stdout",
     "output_type": "stream",
     "text": [
      "['SiteId', 'SiteName', 'County', 'Township', 'TWD67Lon', 'TWD67Lat', 'Rainfall10min', 'Rainfall1hr', 'Rainfall3hr', 'Rainfall6hr', 'Rainfall12hr', 'Rainfall24hr', 'Now', 'Unit', 'PublishTime']\n"
     ]
    }
   ],
   "source": [
    "in_csv = 'RainTenMin_201708141950.csv'\n",
    "df = pandas.read_csv(in_csv, sep=',', skipinitialspace=True)\n",
    "print(list(df))"
   ]
  },
  {
   "cell_type": "markdown",
   "metadata": {},
   "source": [
    "## 根據縣市、鄉鎮區級行政區分群"
   ]
  },
  {
   "cell_type": "code",
   "execution_count": 3,
   "metadata": {},
   "outputs": [
    {
     "data": {
      "text/plain": [
       "County  Township\n",
       "南投縣     中寮鄉          2\n",
       "        仁愛鄉         22\n",
       "        信義鄉         19\n",
       "        南投市          3\n",
       "        名間鄉          2\n",
       "        國姓鄉          8\n",
       "        埔里鎮          4\n",
       "        水里鄉          8\n",
       "        竹山鎮          7\n",
       "        草屯鎮          4\n",
       "        集集鎮          2\n",
       "        魚池鄉          3\n",
       "        鹿谷鄉          3\n",
       "嘉義市     東區           1\n",
       "        西區           1\n",
       "嘉義縣     中埔鄉          2\n",
       "        六腳鄉          1\n",
       "        大埔鄉          2\n",
       "        大林鎮          2\n",
       "        太保市          1\n",
       "dtype: int64"
      ]
     },
     "execution_count": 3,
     "metadata": {},
     "output_type": "execute_result"
    }
   ],
   "source": [
    "df.groupby(['County','Township']).size().head(20)"
   ]
  },
  {
   "cell_type": "markdown",
   "metadata": {},
   "source": [
    "880 個測站 重複於 347 個鄉鎮區，未及全台 368 個鄉鎮區級行政區"
   ]
  },
  {
   "cell_type": "markdown",
   "metadata": {},
   "source": [
    "## 只取跟測站資訊有關的六個欄位，雨量值的欄位裁掉"
   ]
  },
  {
   "cell_type": "code",
   "execution_count": 4,
   "metadata": {},
   "outputs": [
    {
     "data": {
      "text/plain": [
       "[(('南投縣', '中寮鄉'),      SiteId SiteName County Township  TWD67Lon  TWD67Lat\n",
       "  592  C1I211      蘆竹湳    南投縣      中寮鄉  120.8039   23.9358\n",
       "  735  C0H950       中寮    南投縣      中寮鄉  120.7585   23.8863),\n",
       " (('南投縣', '仁愛鄉'),      SiteId SiteName County Township  TWD67Lon  TWD67Lat\n",
       "  103  C0I490     萬大林道    南投縣      仁愛鄉  121.0833   23.9300\n",
       "  104  C0I480       梅峰    南投縣      仁愛鄉  121.1654   24.0871\n",
       "  114  C1I500      大尖山    南投縣      仁愛鄉  120.9867   23.8603\n",
       "  168  C0I390       仁愛    南投縣      仁愛鄉  121.1241   24.0239\n",
       "  169  C1I430       翠華    南投縣      仁愛鄉  121.2161   24.1937\n",
       "  172  C1I400       凌霄    南投縣      仁愛鄉  120.9963   24.0206\n",
       "  286  01H720    清流(1)    南投縣      仁愛鄉  120.9452   24.0681\n",
       "  293  01H310       翠峰    南投縣      仁愛鄉  121.1911   24.1088\n",
       "  294  01H210       翠巒    南投縣      仁愛鄉  121.1954   24.1844\n",
       "  322  00H810    惠蓀(2)    南投縣      仁愛鄉  121.0241   24.0925\n",
       "  408  88H890       南豐    南投縣      仁愛鄉  121.0805   24.0191\n",
       "  583  C1I330      楓樹林    南投縣      仁愛鄉  121.0681   23.9886\n",
       "  584  C1I320      奧萬大    南投縣      仁愛鄉  121.1704   23.9547\n",
       "  711  C0I010       廬山    南投縣      仁愛鄉  121.1733   24.0350\n",
       "  712  C0H990       昆陽    南投縣      仁愛鄉  121.2654   24.1231\n",
       "  715  C1I020       萬大    南投縣      仁愛鄉  121.1240   23.9816\n",
       "  716  C1H000       翠峰    南投縣      仁愛鄉  121.1970   24.1112\n",
       "  717  C1I030       武界    南投縣      仁愛鄉  121.0442   23.9147\n",
       "  734  C1H860       瑞岩    南投縣      仁愛鄉  121.1750   24.1256\n",
       "  738  C1H900       清流    南投縣      仁愛鄉  120.9547   24.0828\n",
       "  769  C0H9C0      合歡山    南投縣      仁愛鄉  121.2641   24.1448\n",
       "  771  C1H9B1       阿眉    南投縣      仁愛鄉  120.9861   24.1278)]"
      ]
     },
     "execution_count": 4,
     "metadata": {},
     "output_type": "execute_result"
    }
   ],
   "source": [
    "grouped_list = list(df[['SiteId', 'SiteName', 'County', 'Township', 'TWD67Lon', 'TWD67Lat']].groupby(['County', 'Township']))\n",
    "grouped_list[0:2]"
   ]
  },
  {
   "cell_type": "markdown",
   "metadata": {},
   "source": [
    "## iteratively 取出 tuples of list 裡 tuple[1]，concat 在一起"
   ]
  },
  {
   "cell_type": "code",
   "execution_count": 5,
   "metadata": {},
   "outputs": [
    {
     "data": {
      "text/html": [
       "<div>\n",
       "<style>\n",
       "    .dataframe thead tr:only-child th {\n",
       "        text-align: right;\n",
       "    }\n",
       "\n",
       "    .dataframe thead th {\n",
       "        text-align: left;\n",
       "    }\n",
       "\n",
       "    .dataframe tbody tr th {\n",
       "        vertical-align: top;\n",
       "    }\n",
       "</style>\n",
       "<table border=\"1\" class=\"dataframe\">\n",
       "  <thead>\n",
       "    <tr style=\"text-align: right;\">\n",
       "      <th></th>\n",
       "      <th>SiteId</th>\n",
       "      <th>SiteName</th>\n",
       "      <th>County</th>\n",
       "      <th>Township</th>\n",
       "      <th>TWD67Lon</th>\n",
       "      <th>TWD67Lat</th>\n",
       "    </tr>\n",
       "  </thead>\n",
       "  <tbody>\n",
       "    <tr>\n",
       "      <th>0</th>\n",
       "      <td>C0H950</td>\n",
       "      <td>中寮</td>\n",
       "      <td>南投縣</td>\n",
       "      <td>中寮鄉</td>\n",
       "      <td>120.7585</td>\n",
       "      <td>23.8863</td>\n",
       "    </tr>\n",
       "    <tr>\n",
       "      <th>1</th>\n",
       "      <td>C1I211</td>\n",
       "      <td>蘆竹湳</td>\n",
       "      <td>南投縣</td>\n",
       "      <td>中寮鄉</td>\n",
       "      <td>120.8039</td>\n",
       "      <td>23.9358</td>\n",
       "    </tr>\n",
       "    <tr>\n",
       "      <th>2</th>\n",
       "      <td>01H720</td>\n",
       "      <td>清流(1)</td>\n",
       "      <td>南投縣</td>\n",
       "      <td>仁愛鄉</td>\n",
       "      <td>120.9452</td>\n",
       "      <td>24.0681</td>\n",
       "    </tr>\n",
       "    <tr>\n",
       "      <th>3</th>\n",
       "      <td>C1H900</td>\n",
       "      <td>清流</td>\n",
       "      <td>南投縣</td>\n",
       "      <td>仁愛鄉</td>\n",
       "      <td>120.9547</td>\n",
       "      <td>24.0828</td>\n",
       "    </tr>\n",
       "    <tr>\n",
       "      <th>4</th>\n",
       "      <td>C1H9B1</td>\n",
       "      <td>阿眉</td>\n",
       "      <td>南投縣</td>\n",
       "      <td>仁愛鄉</td>\n",
       "      <td>120.9861</td>\n",
       "      <td>24.1278</td>\n",
       "    </tr>\n",
       "    <tr>\n",
       "      <th>5</th>\n",
       "      <td>C1I500</td>\n",
       "      <td>大尖山</td>\n",
       "      <td>南投縣</td>\n",
       "      <td>仁愛鄉</td>\n",
       "      <td>120.9867</td>\n",
       "      <td>23.8603</td>\n",
       "    </tr>\n",
       "    <tr>\n",
       "      <th>6</th>\n",
       "      <td>C1I400</td>\n",
       "      <td>凌霄</td>\n",
       "      <td>南投縣</td>\n",
       "      <td>仁愛鄉</td>\n",
       "      <td>120.9963</td>\n",
       "      <td>24.0206</td>\n",
       "    </tr>\n",
       "    <tr>\n",
       "      <th>7</th>\n",
       "      <td>00H810</td>\n",
       "      <td>惠蓀(2)</td>\n",
       "      <td>南投縣</td>\n",
       "      <td>仁愛鄉</td>\n",
       "      <td>121.0241</td>\n",
       "      <td>24.0925</td>\n",
       "    </tr>\n",
       "    <tr>\n",
       "      <th>8</th>\n",
       "      <td>C1I030</td>\n",
       "      <td>武界</td>\n",
       "      <td>南投縣</td>\n",
       "      <td>仁愛鄉</td>\n",
       "      <td>121.0442</td>\n",
       "      <td>23.9147</td>\n",
       "    </tr>\n",
       "    <tr>\n",
       "      <th>9</th>\n",
       "      <td>C1I330</td>\n",
       "      <td>楓樹林</td>\n",
       "      <td>南投縣</td>\n",
       "      <td>仁愛鄉</td>\n",
       "      <td>121.0681</td>\n",
       "      <td>23.9886</td>\n",
       "    </tr>\n",
       "    <tr>\n",
       "      <th>10</th>\n",
       "      <td>88H890</td>\n",
       "      <td>南豐</td>\n",
       "      <td>南投縣</td>\n",
       "      <td>仁愛鄉</td>\n",
       "      <td>121.0805</td>\n",
       "      <td>24.0191</td>\n",
       "    </tr>\n",
       "    <tr>\n",
       "      <th>11</th>\n",
       "      <td>C0I490</td>\n",
       "      <td>萬大林道</td>\n",
       "      <td>南投縣</td>\n",
       "      <td>仁愛鄉</td>\n",
       "      <td>121.0833</td>\n",
       "      <td>23.9300</td>\n",
       "    </tr>\n",
       "    <tr>\n",
       "      <th>12</th>\n",
       "      <td>C1I020</td>\n",
       "      <td>萬大</td>\n",
       "      <td>南投縣</td>\n",
       "      <td>仁愛鄉</td>\n",
       "      <td>121.1240</td>\n",
       "      <td>23.9816</td>\n",
       "    </tr>\n",
       "    <tr>\n",
       "      <th>13</th>\n",
       "      <td>C0I390</td>\n",
       "      <td>仁愛</td>\n",
       "      <td>南投縣</td>\n",
       "      <td>仁愛鄉</td>\n",
       "      <td>121.1241</td>\n",
       "      <td>24.0239</td>\n",
       "    </tr>\n",
       "    <tr>\n",
       "      <th>14</th>\n",
       "      <td>C0I480</td>\n",
       "      <td>梅峰</td>\n",
       "      <td>南投縣</td>\n",
       "      <td>仁愛鄉</td>\n",
       "      <td>121.1654</td>\n",
       "      <td>24.0871</td>\n",
       "    </tr>\n",
       "    <tr>\n",
       "      <th>15</th>\n",
       "      <td>C1I320</td>\n",
       "      <td>奧萬大</td>\n",
       "      <td>南投縣</td>\n",
       "      <td>仁愛鄉</td>\n",
       "      <td>121.1704</td>\n",
       "      <td>23.9547</td>\n",
       "    </tr>\n",
       "    <tr>\n",
       "      <th>16</th>\n",
       "      <td>C0I010</td>\n",
       "      <td>廬山</td>\n",
       "      <td>南投縣</td>\n",
       "      <td>仁愛鄉</td>\n",
       "      <td>121.1733</td>\n",
       "      <td>24.0350</td>\n",
       "    </tr>\n",
       "    <tr>\n",
       "      <th>17</th>\n",
       "      <td>C1H860</td>\n",
       "      <td>瑞岩</td>\n",
       "      <td>南投縣</td>\n",
       "      <td>仁愛鄉</td>\n",
       "      <td>121.1750</td>\n",
       "      <td>24.1256</td>\n",
       "    </tr>\n",
       "    <tr>\n",
       "      <th>18</th>\n",
       "      <td>01H310</td>\n",
       "      <td>翠峰</td>\n",
       "      <td>南投縣</td>\n",
       "      <td>仁愛鄉</td>\n",
       "      <td>121.1911</td>\n",
       "      <td>24.1088</td>\n",
       "    </tr>\n",
       "    <tr>\n",
       "      <th>19</th>\n",
       "      <td>01H210</td>\n",
       "      <td>翠巒</td>\n",
       "      <td>南投縣</td>\n",
       "      <td>仁愛鄉</td>\n",
       "      <td>121.1954</td>\n",
       "      <td>24.1844</td>\n",
       "    </tr>\n",
       "  </tbody>\n",
       "</table>\n",
       "</div>"
      ],
      "text/plain": [
       "    SiteId SiteName County Township  TWD67Lon  TWD67Lat\n",
       "0   C0H950       中寮    南投縣      中寮鄉  120.7585   23.8863\n",
       "1   C1I211      蘆竹湳    南投縣      中寮鄉  120.8039   23.9358\n",
       "2   01H720    清流(1)    南投縣      仁愛鄉  120.9452   24.0681\n",
       "3   C1H900       清流    南投縣      仁愛鄉  120.9547   24.0828\n",
       "4   C1H9B1       阿眉    南投縣      仁愛鄉  120.9861   24.1278\n",
       "5   C1I500      大尖山    南投縣      仁愛鄉  120.9867   23.8603\n",
       "6   C1I400       凌霄    南投縣      仁愛鄉  120.9963   24.0206\n",
       "7   00H810    惠蓀(2)    南投縣      仁愛鄉  121.0241   24.0925\n",
       "8   C1I030       武界    南投縣      仁愛鄉  121.0442   23.9147\n",
       "9   C1I330      楓樹林    南投縣      仁愛鄉  121.0681   23.9886\n",
       "10  88H890       南豐    南投縣      仁愛鄉  121.0805   24.0191\n",
       "11  C0I490     萬大林道    南投縣      仁愛鄉  121.0833   23.9300\n",
       "12  C1I020       萬大    南投縣      仁愛鄉  121.1240   23.9816\n",
       "13  C0I390       仁愛    南投縣      仁愛鄉  121.1241   24.0239\n",
       "14  C0I480       梅峰    南投縣      仁愛鄉  121.1654   24.0871\n",
       "15  C1I320      奧萬大    南投縣      仁愛鄉  121.1704   23.9547\n",
       "16  C0I010       廬山    南投縣      仁愛鄉  121.1733   24.0350\n",
       "17  C1H860       瑞岩    南投縣      仁愛鄉  121.1750   24.1256\n",
       "18  01H310       翠峰    南投縣      仁愛鄉  121.1911   24.1088\n",
       "19  01H210       翠巒    南投縣      仁愛鄉  121.1954   24.1844"
      ]
     },
     "execution_count": 5,
     "metadata": {},
     "output_type": "execute_result"
    }
   ],
   "source": [
    "grouped_df = grouped_list[0][1].sort_values(['TWD67Lon', 'TWD67Lat'], ascending=[True, True])\n",
    "for idx, group in enumerate(grouped_list):\n",
    "    if idx > 0:\n",
    "        gs = group[1].sort_values(['TWD67Lon', 'TWD67Lat'], ascending=[True, True])\n",
    "        grouped_df = pandas.concat([grouped_df, gs], ignore_index=True)\n",
    "grouped_df.head(20)"
   ]
  },
  {
   "cell_type": "markdown",
   "metadata": {},
   "source": [
    "## 存成 CSV 檔"
   ]
  },
  {
   "cell_type": "code",
   "execution_count": 6,
   "metadata": {
    "collapsed": true
   },
   "outputs": [],
   "source": [
    "out_csv = 'RainTenMin.csv'\n",
    "grouped_df.index += 1 # in case we need to import to mysql\n",
    "grouped_df.to_csv(out_csv, sep=',', encoding='utf-8')"
   ]
  }
 ],
 "metadata": {
  "kernelspec": {
   "display_name": "Python 3",
   "language": "python",
   "name": "python3"
  },
  "language_info": {
   "codemirror_mode": {
    "name": "ipython",
    "version": 3
   },
   "file_extension": ".py",
   "mimetype": "text/x-python",
   "name": "python",
   "nbconvert_exporter": "python",
   "pygments_lexer": "ipython3",
   "version": "3.4.3"
  }
 },
 "nbformat": 4,
 "nbformat_minor": 2
}
